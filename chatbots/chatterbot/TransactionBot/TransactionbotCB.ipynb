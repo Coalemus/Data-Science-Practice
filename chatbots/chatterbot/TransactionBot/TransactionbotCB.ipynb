{
 "metadata": {
  "language_info": {
   "codemirror_mode": {
    "name": "ipython",
    "version": 3
   },
   "file_extension": ".py",
   "mimetype": "text/x-python",
   "name": "python",
   "nbconvert_exporter": "python",
   "pygments_lexer": "ipython3",
   "version": "3.8.6-final"
  },
  "orig_nbformat": 2,
  "kernelspec": {
   "name": "python3",
   "display_name": "Python 3.8.6 64-bit",
   "metadata": {
    "interpreter": {
     "hash": "2db524e06e9f5f4ffedc911c917cb75e12dbc923643829bf417064a77eb14d37"
    }
   }
  }
 },
 "nbformat": 4,
 "nbformat_minor": 2,
 "cells": [
  {
   "source": [
    "# Transaction Bot\n",
    "\n",
    "## Attributes\n",
    "\n",
    "* Template for a bot specialized in transaction.\n",
    "\n",
    "## Reminders\n",
    "\n",
    "* Followed guide in: towardsdatascience.com "
   ],
   "cell_type": "markdown",
   "metadata": {}
  },
  {
   "cell_type": "code",
   "execution_count": null,
   "metadata": {},
   "outputs": [],
   "source": [
    "from chatterbot import ChatBot\n",
    "from chatterbot.trainers import ListTrainer\n",
    "from chatterbot.trainers import ChatterBotCorpusTrainer\n",
    "\n",
    "bot = ChatBot('Buddy', logic_adapters = [\n",
    "    {\n",
    "        'import_path':\n",
    "        'chatterbot.logic.BestMatch',\n",
    "\n",
    "        'default_response': 'I am sorry, I do not understand. I am still learning. Please contact eduardojoeyflores@gmail.com for further assistance.',\n",
    "\n",
    "        'maximum_similarity_threshold': 0.90\n",
    "    }\n",
    "]\n",
    "    read_only=True, preprocessors=[\n",
    "        'chatterbot.preprocessors.clean_whitespace', \n",
    "    'chatterbot.preprocessors.unescape_html',\n",
    "'chaterbot.preprocessors.convert_to_ascii']\n",
    ")\n",
    "Ltrainer = ListTrainer(bot)\n",
    "Ctrainer = ChatterBotCorpusTrainer(bot)"
   ]
  },
  {
   "cell_type": "code",
   "execution_count": null,
   "metadata": {},
   "outputs": [],
   "source": [
    "Ctrainer.train('chatterbot.corpus.english')\n",
    "\n",
    "Ltrainer.train([\n",
    "    \"Hi, can I help you?\",\n",
    "    \"Who are you?\",\n",
    "    \"I am your virtual assistant. Ask me any questions...\",\n",
    "    \"We operate from (country of company).\",\n",
    "    \"What payment methods do you accept?\",\n",
    "    \"We accept debit cards, and major credit cards.\",\n",
    "    \"I would like to speak to your customer service agent.\",\n",
    "    \"Please call (number of customer service). Our operating hours are from 9am to 5pm, monday to friday.\"\n",
    "])\n",
    "\n",
    "Ltrainer.train([\n",
    "    \"What payment methods do you offer?\",\n",
    "    \"We accept debit cards, and major credit cards.\",\n",
    "    \"How to contact customer service agent?\",\n",
    "    \"Please call (number of customer service). Our operating hours are from 9am to 5pm, monday to friday.\"\n",
    "])\n"
   ]
  },
  {
   "cell_type": "code",
   "execution_count": null,
   "metadata": {},
   "outputs": [],
   "source": [
    "name = input(\"Enter your name: \")\n",
    "\n",
    "print(\"Welcome to Chatbot Service! Let me know how I can help you.\")\n",
    "\n",
    "while True:\n",
    "    request = input(name+':')\n",
    "    if request == 'Bye' or request == 'bye':\n",
    "        print(\"Bot: Bye\")\n",
    "        break\n",
    "    else:\n",
    "        response = bot.get_response(request)\n",
    "        print('Bot: ', response)"
   ]
  },
  {
   "cell_type": "code",
   "execution_count": null,
   "metadata": {},
   "outputs": [],
   "source": []
  }
 ]
}