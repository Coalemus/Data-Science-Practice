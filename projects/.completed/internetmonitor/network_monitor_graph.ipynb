{
 "metadata": {
  "language_info": {
   "codemirror_mode": {
    "name": "ipython",
    "version": 3
   },
   "file_extension": ".py",
   "mimetype": "text/x-python",
   "name": "python",
   "nbconvert_exporter": "python",
   "pygments_lexer": "ipython3",
   "version": "3.8.6-final"
  },
  "orig_nbformat": 2,
  "kernelspec": {
   "name": "python3",
   "display_name": "Python 3.8.6 64-bit",
   "metadata": {
    "interpreter": {
     "hash": "2db524e06e9f5f4ffedc911c917cb75e12dbc923643829bf417064a77eb14d37"
    }
   }
  }
 },
 "nbformat": 4,
 "nbformat_minor": 2,
 "cells": [
  {
   "cell_type": "code",
   "execution_count": null,
   "metadata": {},
   "outputs": [],
   "source": [
    "import speedtest\n",
    "import datetime\n",
    "import csv\n",
    "import time\n",
    "import matplotlib.pyplot as plt\n",
    "import matplotlib.ticker as ticker"
   ]
  },
  {
   "cell_type": "code",
   "execution_count": null,
   "metadata": {},
   "outputs": [],
   "source": [
    "s = speedtest.Speedtest()\n",
    "with open(r'C:\\Users\\Flores\\Joey-vscode-workspaces\\Personal-Python-Data-Science-Repository\\..projects\\.completed\\internetmonitor\\test.csv', mode='w') as speedcsv:\n",
    "    csv_writer = csv.DictWriter(speedcsv, fieldnames=['time', 'downspeed', 'upspeed'])\n",
    "    csv_writer.writeheader()\n",
    "    while True:\n",
    "        time_now = datetime.datetime.now().strftime(\"%H:%M:%S\")\n",
    "        downspeed = round((round(s.download()) / 1048576), 2)\n",
    "        upspeed = round((round(s.upload()) / 1048576), 2)\n",
    "        csv_writer.writerow({\n",
    "            'time': time_now,\n",
    "            'downspeed': downspeed,\n",
    "            'upspeed': upspeed\n",
    "        })\n",
    "        print(f\"time: {time_now}, downspeed: {downspeed} Mb/s, upspeed: {upspeed} Mb/s\")\n",
    "        time.sleep(5)"
   ]
  },
  {
   "cell_type": "code",
   "execution_count": null,
   "metadata": {},
   "outputs": [],
   "source": [
    "times = []\n",
    "download = []\n",
    "upload = []\n",
    "\n",
    "with open(r'C:\\Users\\Flores\\Joey-vscode-workspaces\\Personal-Python-Data-Science-Repository\\..projects\\.completed\\internetmonitor\\test.csv', 'r') as csvfile:\n",
    "    plots = csv.reader(csvfile, delimiter=',')\n",
    "    next(csvfile)\n",
    "    for row in plots:\n",
    "        times.append(str(row[0]))\n",
    "        download.append(float(row[1]))\n",
    "        upload.append(float(row[2]))\n",
    "\n",
    "print(times, \"\\n\", download, \"\\n\", upload)"
   ]
  },
  {
   "cell_type": "code",
   "execution_count": null,
   "metadata": {},
   "outputs": [],
   "source": [
    "results_dir = (r\"C:\\Users\\Flores\\Joey-vscode-workspaces\\General-Python-Repository\\.desktopapps\\.completed\\internetmonitor\")\n",
    "\n",
    "plt.figure(30,30)\n",
    "plt.plot(times, download, label='download', color='r')\n",
    "plt.plot(times, upload, label='upload', color='b')\n",
    "plt.xlabel('time')\n",
    "plt.ylabel('speed in Mb/s')\n",
    "plt.title(\"Internet speed\")\n",
    "plt.legend()\n",
    "plt.savefig(results_dir + 'test_graph.jpg', bbox_inches='tight')"
   ]
  },
  {
   "cell_type": "code",
   "execution_count": null,
   "metadata": {},
   "outputs": [],
   "source": []
  }
 ]
}